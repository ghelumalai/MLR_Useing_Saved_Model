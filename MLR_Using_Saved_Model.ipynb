{
 "cells": [
  {
   "cell_type": "code",
   "execution_count": 1,
   "id": "099bb6d9",
   "metadata": {},
   "outputs": [
    {
     "name": "stdout",
     "output_type": "stream",
     "text": [
      "Enter the Amount R&D Depart:12345\n",
      "Enter the Amount Spend on Admin Depart:12685\n",
      "Enter the Amount Spend on Market Depart:47618\n",
      "Enter the State:0\n",
      "Enter the State:1\n"
     ]
    }
   ],
   "source": [
    "import pickle\n",
    "loaded_model=pickle.load(open(\"Salary_Finalized_MLR_Model.sav\",'rb'))\n",
    "rd=int(input(\"Enter the Amount R&D Depart:\"))\n",
    "admin=int(input(\"Enter the Amount Spend on Admin Depart:\"))\n",
    "market=int(input(\"Enter the Amount Spend on Market Depart:\"))\n",
    "sf=int(input(\"Enter the State:\"))\n",
    "sn=int(input(\"Enter the State:\"))"
   ]
  },
  {
   "cell_type": "code",
   "execution_count": 2,
   "id": "9d80235a",
   "metadata": {},
   "outputs": [
    {
     "name": "stderr",
     "output_type": "stream",
     "text": [
      "C:\\Anaconda3\\Lib\\site-packages\\sklearn\\base.py:464: UserWarning: X does not have valid feature names, but LinearRegression was fitted with feature names\n",
      "  warnings.warn(\n"
     ]
    },
    {
     "data": {
      "text/plain": [
       "array([[54230.95864735]])"
      ]
     },
     "execution_count": 2,
     "metadata": {},
     "output_type": "execute_result"
    }
   ],
   "source": [
    "result=loaded_model.predict([[rd,admin,market,sf,sn]])\n",
    "result"
   ]
  },
  {
   "cell_type": "code",
   "execution_count": null,
   "id": "a599a2ef",
   "metadata": {},
   "outputs": [],
   "source": []
  }
 ],
 "metadata": {
  "kernelspec": {
   "display_name": "Python 3 (ipykernel)",
   "language": "python",
   "name": "python3"
  },
  "language_info": {
   "codemirror_mode": {
    "name": "ipython",
    "version": 3
   },
   "file_extension": ".py",
   "mimetype": "text/x-python",
   "name": "python",
   "nbconvert_exporter": "python",
   "pygments_lexer": "ipython3",
   "version": "3.11.5"
  }
 },
 "nbformat": 4,
 "nbformat_minor": 5
}
